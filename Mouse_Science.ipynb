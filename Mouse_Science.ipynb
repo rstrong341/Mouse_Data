{
 "cells": [
  {
   "cell_type": "code",
   "execution_count": 49,
   "metadata": {},
   "outputs": [],
   "source": [
    "#Write-up\n",
    "\n",
    "#1. looking at our summary chart from the gouped Regimens we can see that two Regimen have significantly lower means \n",
    "# for their final Tumor volumes.  Those two are Ramicane and Capomulin.  \n",
    "\n",
    "#2. While Ramicane and Capomulin are likely the top two options, Ceftamin also produced promising results.  Even though it \n",
    "# produced top 4 results it hasn't received the same sample size as the rest.  After looking at this data I would\n",
    "# want to see more tests run on Ceftamin.\n",
    "\n",
    "#3. With a strong correlation of .84 we can seafely colclude that there is a significant correlation between the weight \n",
    "# and tumor size of mice using Capomulin.  This is a great sign that Capomulin is working."
   ]
  },
  {
   "cell_type": "code",
   "execution_count": 50,
   "metadata": {},
   "outputs": [],
   "source": [
    "#Import Tools\n",
    "from matplotlib import pyplot as plt\n",
    "from scipy import stats\n",
    "import numpy as np\n",
    "import pandas as pd\n",
    "\n",
    "from scipy.stats import linregress\n",
    "from sklearn import datasets"
   ]
  },
  {
   "cell_type": "code",
   "execution_count": 2,
   "metadata": {},
   "outputs": [],
   "source": [
    "#Import csv files\n",
    "mouse_df = pd.read_csv(\"Mouse_metadata.csv\")\n",
    "study_df = pd.read_csv(\"Study_results.csv\")\n"
   ]
  },
  {
   "cell_type": "code",
   "execution_count": 42,
   "metadata": {},
   "outputs": [
    {
     "data": {
      "text/html": [
       "<div>\n",
       "<style scoped>\n",
       "    .dataframe tbody tr th:only-of-type {\n",
       "        vertical-align: middle;\n",
       "    }\n",
       "\n",
       "    .dataframe tbody tr th {\n",
       "        vertical-align: top;\n",
       "    }\n",
       "\n",
       "    .dataframe thead th {\n",
       "        text-align: right;\n",
       "    }\n",
       "</style>\n",
       "<table border=\"1\" class=\"dataframe\">\n",
       "  <thead>\n",
       "    <tr style=\"text-align: right;\">\n",
       "      <th></th>\n",
       "      <th>Mouse ID</th>\n",
       "      <th>Drug Regimen</th>\n",
       "      <th>Sex</th>\n",
       "      <th>Age_months</th>\n",
       "      <th>Weight (g)</th>\n",
       "      <th>Timepoint</th>\n",
       "      <th>Tumor Volume (mm3)</th>\n",
       "      <th>Metastatic Sites</th>\n",
       "    </tr>\n",
       "  </thead>\n",
       "  <tbody>\n",
       "    <tr>\n",
       "      <th>0</th>\n",
       "      <td>k403</td>\n",
       "      <td>Ramicane</td>\n",
       "      <td>Male</td>\n",
       "      <td>21</td>\n",
       "      <td>16</td>\n",
       "      <td>0</td>\n",
       "      <td>45.000000</td>\n",
       "      <td>0</td>\n",
       "    </tr>\n",
       "    <tr>\n",
       "      <th>1</th>\n",
       "      <td>k403</td>\n",
       "      <td>Ramicane</td>\n",
       "      <td>Male</td>\n",
       "      <td>21</td>\n",
       "      <td>16</td>\n",
       "      <td>5</td>\n",
       "      <td>38.825898</td>\n",
       "      <td>0</td>\n",
       "    </tr>\n",
       "    <tr>\n",
       "      <th>2</th>\n",
       "      <td>k403</td>\n",
       "      <td>Ramicane</td>\n",
       "      <td>Male</td>\n",
       "      <td>21</td>\n",
       "      <td>16</td>\n",
       "      <td>10</td>\n",
       "      <td>35.014271</td>\n",
       "      <td>1</td>\n",
       "    </tr>\n",
       "    <tr>\n",
       "      <th>3</th>\n",
       "      <td>k403</td>\n",
       "      <td>Ramicane</td>\n",
       "      <td>Male</td>\n",
       "      <td>21</td>\n",
       "      <td>16</td>\n",
       "      <td>15</td>\n",
       "      <td>34.223992</td>\n",
       "      <td>1</td>\n",
       "    </tr>\n",
       "    <tr>\n",
       "      <th>4</th>\n",
       "      <td>k403</td>\n",
       "      <td>Ramicane</td>\n",
       "      <td>Male</td>\n",
       "      <td>21</td>\n",
       "      <td>16</td>\n",
       "      <td>20</td>\n",
       "      <td>32.997729</td>\n",
       "      <td>1</td>\n",
       "    </tr>\n",
       "    <tr>\n",
       "      <th>...</th>\n",
       "      <td>...</td>\n",
       "      <td>...</td>\n",
       "      <td>...</td>\n",
       "      <td>...</td>\n",
       "      <td>...</td>\n",
       "      <td>...</td>\n",
       "      <td>...</td>\n",
       "      <td>...</td>\n",
       "    </tr>\n",
       "    <tr>\n",
       "      <th>1888</th>\n",
       "      <td>z969</td>\n",
       "      <td>Naftisol</td>\n",
       "      <td>Male</td>\n",
       "      <td>9</td>\n",
       "      <td>30</td>\n",
       "      <td>25</td>\n",
       "      <td>63.145652</td>\n",
       "      <td>2</td>\n",
       "    </tr>\n",
       "    <tr>\n",
       "      <th>1889</th>\n",
       "      <td>z969</td>\n",
       "      <td>Naftisol</td>\n",
       "      <td>Male</td>\n",
       "      <td>9</td>\n",
       "      <td>30</td>\n",
       "      <td>30</td>\n",
       "      <td>65.841013</td>\n",
       "      <td>3</td>\n",
       "    </tr>\n",
       "    <tr>\n",
       "      <th>1890</th>\n",
       "      <td>z969</td>\n",
       "      <td>Naftisol</td>\n",
       "      <td>Male</td>\n",
       "      <td>9</td>\n",
       "      <td>30</td>\n",
       "      <td>35</td>\n",
       "      <td>69.176246</td>\n",
       "      <td>4</td>\n",
       "    </tr>\n",
       "    <tr>\n",
       "      <th>1891</th>\n",
       "      <td>z969</td>\n",
       "      <td>Naftisol</td>\n",
       "      <td>Male</td>\n",
       "      <td>9</td>\n",
       "      <td>30</td>\n",
       "      <td>40</td>\n",
       "      <td>70.314904</td>\n",
       "      <td>4</td>\n",
       "    </tr>\n",
       "    <tr>\n",
       "      <th>1892</th>\n",
       "      <td>z969</td>\n",
       "      <td>Naftisol</td>\n",
       "      <td>Male</td>\n",
       "      <td>9</td>\n",
       "      <td>30</td>\n",
       "      <td>45</td>\n",
       "      <td>73.867845</td>\n",
       "      <td>4</td>\n",
       "    </tr>\n",
       "  </tbody>\n",
       "</table>\n",
       "<p>1893 rows × 8 columns</p>\n",
       "</div>"
      ],
      "text/plain": [
       "     Mouse ID Drug Regimen   Sex  Age_months  Weight (g)  Timepoint  \\\n",
       "0        k403     Ramicane  Male          21          16          0   \n",
       "1        k403     Ramicane  Male          21          16          5   \n",
       "2        k403     Ramicane  Male          21          16         10   \n",
       "3        k403     Ramicane  Male          21          16         15   \n",
       "4        k403     Ramicane  Male          21          16         20   \n",
       "...       ...          ...   ...         ...         ...        ...   \n",
       "1888     z969     Naftisol  Male           9          30         25   \n",
       "1889     z969     Naftisol  Male           9          30         30   \n",
       "1890     z969     Naftisol  Male           9          30         35   \n",
       "1891     z969     Naftisol  Male           9          30         40   \n",
       "1892     z969     Naftisol  Male           9          30         45   \n",
       "\n",
       "      Tumor Volume (mm3)  Metastatic Sites  \n",
       "0              45.000000                 0  \n",
       "1              38.825898                 0  \n",
       "2              35.014271                 1  \n",
       "3              34.223992                 1  \n",
       "4              32.997729                 1  \n",
       "...                  ...               ...  \n",
       "1888           63.145652                 2  \n",
       "1889           65.841013                 3  \n",
       "1890           69.176246                 4  \n",
       "1891           70.314904                 4  \n",
       "1892           73.867845                 4  \n",
       "\n",
       "[1893 rows x 8 columns]"
      ]
     },
     "execution_count": 42,
     "metadata": {},
     "output_type": "execute_result"
    }
   ],
   "source": [
    "#Merge files using outer\n",
    "data = pd.merge(mouse_df, study_df, on='Mouse ID', how='outer')\n",
    "data\n"
   ]
  },
  {
   "cell_type": "code",
   "execution_count": 44,
   "metadata": {},
   "outputs": [
    {
     "data": {
      "text/html": [
       "<div>\n",
       "<style scoped>\n",
       "    .dataframe tbody tr th:only-of-type {\n",
       "        vertical-align: middle;\n",
       "    }\n",
       "\n",
       "    .dataframe tbody tr th {\n",
       "        vertical-align: top;\n",
       "    }\n",
       "\n",
       "    .dataframe thead th {\n",
       "        text-align: right;\n",
       "    }\n",
       "</style>\n",
       "<table border=\"1\" class=\"dataframe\">\n",
       "  <thead>\n",
       "    <tr style=\"text-align: right;\">\n",
       "      <th></th>\n",
       "      <th>mean</th>\n",
       "      <th>median</th>\n",
       "      <th>var</th>\n",
       "      <th>std</th>\n",
       "      <th>sem</th>\n",
       "    </tr>\n",
       "    <tr>\n",
       "      <th>Drug Regimen</th>\n",
       "      <th></th>\n",
       "      <th></th>\n",
       "      <th></th>\n",
       "      <th></th>\n",
       "      <th></th>\n",
       "    </tr>\n",
       "  </thead>\n",
       "  <tbody>\n",
       "    <tr>\n",
       "      <th>Capomulin</th>\n",
       "      <td>40.675741</td>\n",
       "      <td>41.557809</td>\n",
       "      <td>24.947764</td>\n",
       "      <td>4.994774</td>\n",
       "      <td>0.329346</td>\n",
       "    </tr>\n",
       "    <tr>\n",
       "      <th>Ceftamin</th>\n",
       "      <td>52.591172</td>\n",
       "      <td>51.776157</td>\n",
       "      <td>39.290177</td>\n",
       "      <td>6.268188</td>\n",
       "      <td>0.469821</td>\n",
       "    </tr>\n",
       "    <tr>\n",
       "      <th>Infubinol</th>\n",
       "      <td>52.884795</td>\n",
       "      <td>51.820584</td>\n",
       "      <td>43.128684</td>\n",
       "      <td>6.567243</td>\n",
       "      <td>0.492236</td>\n",
       "    </tr>\n",
       "    <tr>\n",
       "      <th>Ketapril</th>\n",
       "      <td>55.235638</td>\n",
       "      <td>53.698743</td>\n",
       "      <td>68.553577</td>\n",
       "      <td>8.279709</td>\n",
       "      <td>0.603860</td>\n",
       "    </tr>\n",
       "    <tr>\n",
       "      <th>Naftisol</th>\n",
       "      <td>54.331565</td>\n",
       "      <td>52.509285</td>\n",
       "      <td>66.173479</td>\n",
       "      <td>8.134708</td>\n",
       "      <td>0.596466</td>\n",
       "    </tr>\n",
       "    <tr>\n",
       "      <th>Placebo</th>\n",
       "      <td>54.033581</td>\n",
       "      <td>52.288934</td>\n",
       "      <td>61.168083</td>\n",
       "      <td>7.821003</td>\n",
       "      <td>0.581331</td>\n",
       "    </tr>\n",
       "    <tr>\n",
       "      <th>Propriva</th>\n",
       "      <td>52.322552</td>\n",
       "      <td>50.854632</td>\n",
       "      <td>42.351070</td>\n",
       "      <td>6.507770</td>\n",
       "      <td>0.512884</td>\n",
       "    </tr>\n",
       "    <tr>\n",
       "      <th>Ramicane</th>\n",
       "      <td>40.216745</td>\n",
       "      <td>40.673236</td>\n",
       "      <td>23.486704</td>\n",
       "      <td>4.846308</td>\n",
       "      <td>0.320955</td>\n",
       "    </tr>\n",
       "    <tr>\n",
       "      <th>Stelasyn</th>\n",
       "      <td>54.233149</td>\n",
       "      <td>52.431737</td>\n",
       "      <td>59.450562</td>\n",
       "      <td>7.710419</td>\n",
       "      <td>0.573111</td>\n",
       "    </tr>\n",
       "    <tr>\n",
       "      <th>Zoniferol</th>\n",
       "      <td>53.236507</td>\n",
       "      <td>51.818479</td>\n",
       "      <td>48.533355</td>\n",
       "      <td>6.966589</td>\n",
       "      <td>0.516398</td>\n",
       "    </tr>\n",
       "  </tbody>\n",
       "</table>\n",
       "</div>"
      ],
      "text/plain": [
       "                   mean     median        var       std       sem\n",
       "Drug Regimen                                                     \n",
       "Capomulin     40.675741  41.557809  24.947764  4.994774  0.329346\n",
       "Ceftamin      52.591172  51.776157  39.290177  6.268188  0.469821\n",
       "Infubinol     52.884795  51.820584  43.128684  6.567243  0.492236\n",
       "Ketapril      55.235638  53.698743  68.553577  8.279709  0.603860\n",
       "Naftisol      54.331565  52.509285  66.173479  8.134708  0.596466\n",
       "Placebo       54.033581  52.288934  61.168083  7.821003  0.581331\n",
       "Propriva      52.322552  50.854632  42.351070  6.507770  0.512884\n",
       "Ramicane      40.216745  40.673236  23.486704  4.846308  0.320955\n",
       "Stelasyn      54.233149  52.431737  59.450562  7.710419  0.573111\n",
       "Zoniferol     53.236507  51.818479  48.533355  6.966589  0.516398"
      ]
     },
     "execution_count": 44,
     "metadata": {},
     "output_type": "execute_result"
    }
   ],
   "source": [
    "#Create a summary table that includes mean median var std and sem\n",
    "agg_df = data.groupby(\"Drug Regimen\").agg(['mean', 'median','var', 'std','sem'])\n",
    "summary_table = agg_df['Tumor Volume (mm3)']\n",
    "summary_table"
   ]
  },
  {
   "cell_type": "code",
   "execution_count": 10,
   "metadata": {},
   "outputs": [
    {
     "data": {
      "text/plain": [
       "Drug Regimen\n",
       "Capomulin    230\n",
       "Ceftamin     178\n",
       "Infubinol    178\n",
       "Ketapril     188\n",
       "Naftisol     186\n",
       "Name: Mouse ID, dtype: int64"
      ]
     },
     "execution_count": 10,
     "metadata": {},
     "output_type": "execute_result"
    }
   ],
   "source": [
    "#find frequency values of each drug\n",
    "regimen_freq = data.groupby([\"Drug Regimen\"]).count()\n",
    "regimen_freq = regimen_freq['Mouse ID']\n",
    "regimen_freq.head()"
   ]
  },
  {
   "cell_type": "code",
   "execution_count": 11,
   "metadata": {},
   "outputs": [],
   "source": [
    "#sort\n",
    "regimen_freq = regimen_freq.sort_values(ascending = True)"
   ]
  },
  {
   "cell_type": "code",
   "execution_count": 12,
   "metadata": {},
   "outputs": [
    {
     "data": {
      "image/png": "[encoded data removed]",
      "text/plain": [
       "<Figure size 432x288 with 1 Axes>"
      ]
     },
     "metadata": {
      "needs_background": "light"
     },
     "output_type": "display_data"
    },
    {
     "data": {
      "text/plain": [
       "<Figure size 432x288 with 0 Axes>"
      ]
     },
     "metadata": {},
     "output_type": "display_data"
    }
   ],
   "source": [
    "#Create a bar chart\n",
    "regimen_freq.plot(kind=\"bar\", figsize=(6,4), width=.75)\n",
    "\n",
    "#set chart title\n",
    "plt.title(\"Regimen Frequency Chart\")\n",
    "plt.xlabel(\"Drug Regimen\")\n",
    "plt.ylabel(\"Data Frequency\")\n",
    "\n",
    "#Show chart and set layout\n",
    "plt.show()\n",
    "plt.tight_layout()\n",
    "\n"
   ]
  },
  {
   "cell_type": "code",
   "execution_count": 13,
   "metadata": {},
   "outputs": [
    {
     "data": {
      "text/plain": [
       "Text(0, 0.5, 'Data Frequency')"
      ]
     },
     "execution_count": 13,
     "metadata": {},
     "output_type": "execute_result"
    },
    {
     "data": {
      "image/png": "[encoded data removed]",
      "text/plain": [
       "<Figure size 432x288 with 1 Axes>"
      ]
     },
     "metadata": {
      "needs_background": "light"
     },
     "output_type": "display_data"
    }
   ],
   "source": [
    "# Create an array that contains the number of users each language has\n",
    "total_users = sorted([230, 178, 178, 188, 186, 181, 161, 228, 181, 182])\n",
    "x_axis = np.arange(len(total_users))\n",
    "\n",
    "#Create a bar chart\n",
    "plt.bar(x_axis, total_users, color='tab:blue', alpha=0.95, align='center')\n",
    "\n",
    "#Tick lables\n",
    "tick_locations = [value for value in x_axis]\n",
    "plt.xticks(tick_locations, ['Propriva', 'Ceftamin', 'Infubinol', 'Placebo', 'Stelasyn', 'Zoniferol', 'Naftisol', 'Ketapril', 'Ramicane', 'Capomulin'],  rotation='vertical')\n",
    "\n",
    "#Chart dimensions\n",
    "plt.xlim(-0.70, len(x_axis)-0.20)\n",
    "plt.ylim(0, max(total_users)+10)\n",
    "\n",
    "#Set chart title and lables\n",
    "plt.title(\"Regimen Frequency Chart\")\n",
    "plt.xlabel(\"Drug Regimen\")\n",
    "plt.ylabel(\"Data Frequency\")"
   ]
  },
  {
   "cell_type": "code",
   "execution_count": 47,
   "metadata": {},
   "outputs": [],
   "source": [
    "#find the gender totals by eliminating duplicate ID's and counting sex\n",
    "no_dup = data.drop_duplicates(subset=['Mouse ID'])\n",
    "gender_split = no_dup['Sex'].value_counts()\n",
    "\n",
    "#Count each gender and divede by the total\n",
    "male_total = gender_split[0]\n",
    "female_total = gender_split[1]\n",
    "Total = female_total + male_total\n",
    "gender_percentage = gender_split / Total"
   ]
  },
  {
   "cell_type": "code",
   "execution_count": 17,
   "metadata": {},
   "outputs": [],
   "source": [
    "#create a table for the data\n",
    "gender_split_df = pd.DataFrame({\"Total Count\": gender_split,\n",
    "                                \"Percentage\": gender_percentage\n",
    "                                })"
   ]
  },
  {
   "cell_type": "code",
   "execution_count": 48,
   "metadata": {},
   "outputs": [
    {
     "data": {
      "text/html": [
       "<div>\n",
       "<style scoped>\n",
       "    .dataframe tbody tr th:only-of-type {\n",
       "        vertical-align: middle;\n",
       "    }\n",
       "\n",
       "    .dataframe tbody tr th {\n",
       "        vertical-align: top;\n",
       "    }\n",
       "\n",
       "    .dataframe thead th {\n",
       "        text-align: right;\n",
       "    }\n",
       "</style>\n",
       "<table border=\"1\" class=\"dataframe\">\n",
       "  <thead>\n",
       "    <tr style=\"text-align: right;\">\n",
       "      <th></th>\n",
       "      <th>Total Count</th>\n",
       "      <th>Percentage</th>\n",
       "    </tr>\n",
       "  </thead>\n",
       "  <tbody>\n",
       "    <tr>\n",
       "      <th>Male</th>\n",
       "      <td>125</td>\n",
       "      <td>0.502008</td>\n",
       "    </tr>\n",
       "    <tr>\n",
       "      <th>Female</th>\n",
       "      <td>124</td>\n",
       "      <td>0.497992</td>\n",
       "    </tr>\n",
       "  </tbody>\n",
       "</table>\n",
       "</div>"
      ],
      "text/plain": [
       "        Total Count  Percentage\n",
       "Male            125    0.502008\n",
       "Female          124    0.497992"
      ]
     },
     "execution_count": 48,
     "metadata": {},
     "output_type": "execute_result"
    }
   ],
   "source": [
    "gender_split_df"
   ]
  },
  {
   "cell_type": "code",
   "execution_count": 19,
   "metadata": {},
   "outputs": [
    {
     "data": {
      "text/plain": [
       "Text(0, 0.5, ' ')"
      ]
     },
     "execution_count": 19,
     "metadata": {},
     "output_type": "execute_result"
    },
    {
     "data": {
      "image/png": "[encoded data removed]",
      "text/plain": [
       "<Figure size 324x324 with 1 Axes>"
      ]
     },
     "metadata": {},
     "output_type": "display_data"
    }
   ],
   "source": [
    "#Make Pie chart with colors and lables\n",
    "colors = ['lightskyblue', 'pink']\n",
    "explode = (0.05, 0)\n",
    "\n",
    "plot = gender_split_df.plot.pie(y='Total Count',figsize=(4.5,4.5), colors = colors, startangle=125, explode = explode, shadow = True, autopct=\"%1.2f%%\")\n",
    "plt.title(\"Gender Pie Chart\")\n",
    "plt.ylabel(\" \")"
   ]
  },
  {
   "cell_type": "code",
   "execution_count": 20,
   "metadata": {},
   "outputs": [],
   "source": [
    "#Set variables \n",
    "labels = [\"Male\", \"Female\"]\n",
    "percentages = [50.200803, 49.799197]\n",
    "colors = ['lightskyblue', 'pink']\n",
    "explode = (0.05, 0)"
   ]
  },
  {
   "cell_type": "code",
   "execution_count": 21,
   "metadata": {},
   "outputs": [
    {
     "data": {
      "text/plain": [
       "Text(0.5, 1.0, 'Gender Pie Chart')"
      ]
     },
     "execution_count": 21,
     "metadata": {},
     "output_type": "execute_result"
    },
    {
     "data": {
      "image/png": "[encoded data removed]",
      "text/plain": [
       "<Figure size 432x288 with 1 Axes>"
      ]
     },
     "metadata": {},
     "output_type": "display_data"
    }
   ],
   "source": [
    "#Match previous chart using numpy\n",
    "plt.pie(percentages, explode=explode, labels=labels, colors=colors, autopct=\"%1.2f%%\", shadow=True, startangle=125)\n",
    "plt.legend(loc=\"lower right\")\n",
    "plt.axis(\"equal\")\n",
    "plt.title(\"Gender Pie Chart\")"
   ]
  },
  {
   "cell_type": "code",
   "execution_count": 23,
   "metadata": {},
   "outputs": [
    {
     "data": {
      "text/html": [
       "<div>\n",
       "<style scoped>\n",
       "    .dataframe tbody tr th:only-of-type {\n",
       "        vertical-align: middle;\n",
       "    }\n",
       "\n",
       "    .dataframe tbody tr th {\n",
       "        vertical-align: top;\n",
       "    }\n",
       "\n",
       "    .dataframe thead th {\n",
       "        text-align: right;\n",
       "    }\n",
       "</style>\n",
       "<table border=\"1\" class=\"dataframe\">\n",
       "  <thead>\n",
       "    <tr style=\"text-align: right;\">\n",
       "      <th></th>\n",
       "      <th>mean</th>\n",
       "      <th>median</th>\n",
       "      <th>var</th>\n",
       "      <th>std</th>\n",
       "      <th>sem</th>\n",
       "    </tr>\n",
       "    <tr>\n",
       "      <th>Drug Regimen</th>\n",
       "      <th></th>\n",
       "      <th></th>\n",
       "      <th></th>\n",
       "      <th></th>\n",
       "      <th></th>\n",
       "    </tr>\n",
       "  </thead>\n",
       "  <tbody>\n",
       "    <tr>\n",
       "      <th>Capomulin</th>\n",
       "      <td>40.675741</td>\n",
       "      <td>41.557809</td>\n",
       "      <td>24.947764</td>\n",
       "      <td>4.994774</td>\n",
       "      <td>0.329346</td>\n",
       "    </tr>\n",
       "    <tr>\n",
       "      <th>Ceftamin</th>\n",
       "      <td>52.591172</td>\n",
       "      <td>51.776157</td>\n",
       "      <td>39.290177</td>\n",
       "      <td>6.268188</td>\n",
       "      <td>0.469821</td>\n",
       "    </tr>\n",
       "    <tr>\n",
       "      <th>Infubinol</th>\n",
       "      <td>52.884795</td>\n",
       "      <td>51.820584</td>\n",
       "      <td>43.128684</td>\n",
       "      <td>6.567243</td>\n",
       "      <td>0.492236</td>\n",
       "    </tr>\n",
       "    <tr>\n",
       "      <th>Ketapril</th>\n",
       "      <td>55.235638</td>\n",
       "      <td>53.698743</td>\n",
       "      <td>68.553577</td>\n",
       "      <td>8.279709</td>\n",
       "      <td>0.603860</td>\n",
       "    </tr>\n",
       "    <tr>\n",
       "      <th>Naftisol</th>\n",
       "      <td>54.331565</td>\n",
       "      <td>52.509285</td>\n",
       "      <td>66.173479</td>\n",
       "      <td>8.134708</td>\n",
       "      <td>0.596466</td>\n",
       "    </tr>\n",
       "    <tr>\n",
       "      <th>Placebo</th>\n",
       "      <td>54.033581</td>\n",
       "      <td>52.288934</td>\n",
       "      <td>61.168083</td>\n",
       "      <td>7.821003</td>\n",
       "      <td>0.581331</td>\n",
       "    </tr>\n",
       "    <tr>\n",
       "      <th>Propriva</th>\n",
       "      <td>52.322552</td>\n",
       "      <td>50.854632</td>\n",
       "      <td>42.351070</td>\n",
       "      <td>6.507770</td>\n",
       "      <td>0.512884</td>\n",
       "    </tr>\n",
       "    <tr>\n",
       "      <th>Ramicane</th>\n",
       "      <td>40.216745</td>\n",
       "      <td>40.673236</td>\n",
       "      <td>23.486704</td>\n",
       "      <td>4.846308</td>\n",
       "      <td>0.320955</td>\n",
       "    </tr>\n",
       "    <tr>\n",
       "      <th>Stelasyn</th>\n",
       "      <td>54.233149</td>\n",
       "      <td>52.431737</td>\n",
       "      <td>59.450562</td>\n",
       "      <td>7.710419</td>\n",
       "      <td>0.573111</td>\n",
       "    </tr>\n",
       "    <tr>\n",
       "      <th>Zoniferol</th>\n",
       "      <td>53.236507</td>\n",
       "      <td>51.818479</td>\n",
       "      <td>48.533355</td>\n",
       "      <td>6.966589</td>\n",
       "      <td>0.516398</td>\n",
       "    </tr>\n",
       "  </tbody>\n",
       "</table>\n",
       "</div>"
      ],
      "text/plain": [
       "                   mean     median        var       std       sem\n",
       "Drug Regimen                                                     \n",
       "Capomulin     40.675741  41.557809  24.947764  4.994774  0.329346\n",
       "Ceftamin      52.591172  51.776157  39.290177  6.268188  0.469821\n",
       "Infubinol     52.884795  51.820584  43.128684  6.567243  0.492236\n",
       "Ketapril      55.235638  53.698743  68.553577  8.279709  0.603860\n",
       "Naftisol      54.331565  52.509285  66.173479  8.134708  0.596466\n",
       "Placebo       54.033581  52.288934  61.168083  7.821003  0.581331\n",
       "Propriva      52.322552  50.854632  42.351070  6.507770  0.512884\n",
       "Ramicane      40.216745  40.673236  23.486704  4.846308  0.320955\n",
       "Stelasyn      54.233149  52.431737  59.450562  7.710419  0.573111\n",
       "Zoniferol     53.236507  51.818479  48.533355  6.966589  0.516398"
      ]
     },
     "execution_count": 23,
     "metadata": {},
     "output_type": "execute_result"
    }
   ],
   "source": [
    "#Looking at our summary table we can see that the four most promising regimen are\n",
    "#Ramicane, Capomulin, Ceftamin and Infubinol\n",
    "summary_table"
   ]
  },
  {
   "cell_type": "code",
   "execution_count": 24,
   "metadata": {},
   "outputs": [],
   "source": [
    "#Seperate into top 4 regimens\n",
    "Ramicane = data.loc[data['Drug Regimen'] == 'Ramicane']\n",
    "Capomulin = data.loc[data['Drug Regimen'] == 'Capomulin']\n",
    "Infubinol = data.loc[data['Drug Regimen'] == 'Infubinol']\n",
    "Ceftamin = data.loc[data['Drug Regimen'] == 'Ceftamin']"
   ]
  },
  {
   "cell_type": "code",
   "execution_count": 25,
   "metadata": {},
   "outputs": [],
   "source": [
    "#We only want the ending tumor size\n",
    "Ramicane_sort = Ramicane.groupby(['Drug Regimen', 'Mouse ID']).last()['Tumor Volume (mm3)']\n",
    "Ramicane_df = Ramicane_sort.to_frame()\n",
    "\n",
    "Capomulin_sort = Capomulin.groupby(['Drug Regimen', 'Mouse ID']).last()['Tumor Volume (mm3)']\n",
    "Capomulin_df = Capomulin_sort.to_frame()\n",
    "\n",
    "Infubinol_sort = Infubinol.groupby(['Drug Regimen', 'Mouse ID']).last()['Tumor Volume (mm3)']\n",
    "Infubinol_df = Infubinol_sort.to_frame()\n",
    "\n",
    "Ceftamin_sort = Ceftamin.groupby(['Drug Regimen', 'Mouse ID']).last()['Tumor Volume (mm3)']\n",
    "Ceftamin_df = Ceftamin_sort.to_frame()"
   ]
  },
  {
   "cell_type": "code",
   "execution_count": 26,
   "metadata": {},
   "outputs": [
    {
     "name": "stdout",
     "output_type": "stream",
     "text": [
      "The lower quartile is: 31.56046955\n",
      "The upper quartile is: 40.65900627\n",
      "The interquartile range is: 9.098536719999998\n",
      "The the median is: 36.56165229 \n",
      "Values below 17.912664470000003 could be outliers.\n",
      "Values above 54.30681135 could be outliers.\n"
     ]
    }
   ],
   "source": [
    "#Calculate quartiles,lower, upper and inter.\n",
    "Ramicane_quartiles = Ramicane_df['Tumor Volume (mm3)'].quantile([.25,.5,.75])\n",
    "Ramicane_lowerq = Ramicane_quartiles[0.25]\n",
    "Ramicane_upperq = Ramicane_quartiles[0.75]\n",
    "Ramicane_iqr = Ramicane_upperq-Ramicane_lowerq\n",
    "\n",
    "print(f\"The lower quartile is: {Ramicane_lowerq}\")\n",
    "print(f\"The upper quartile is: {Ramicane_upperq}\")\n",
    "print(f\"The interquartile range is: {Ramicane_iqr}\")\n",
    "print(f\"The the median is: {Ramicane_quartiles[0.5]} \")\n",
    "\n",
    "#Calculate outliers \n",
    "Ramicane_lower_bound = Ramicane_lowerq - (1.5*Ramicane_iqr)\n",
    "Ramicane_upper_bound = Ramicane_upperq + (1.5*Ramicane_iqr)\n",
    "print(f\"Values below {Ramicane_lower_bound} could be outliers.\")\n",
    "print(f\"Values above {Ramicane_upper_bound} could be outliers.\")"
   ]
  },
  {
   "cell_type": "code",
   "execution_count": 27,
   "metadata": {},
   "outputs": [
    {
     "name": "stdout",
     "output_type": "stream",
     "text": [
      "The lower quartile is: 32.37735684\n",
      "The upper quartile is: 40.1592203\n",
      "The interquartile range is: 8.59875075\n",
      "The the median is: 38.125164399999996 \n",
      "Values below 19.479230714999996 could be outliers.\n",
      "Values above 53.80702538 could be outliers.\n"
     ]
    }
   ],
   "source": [
    "#Calculate quartiles,lower, upper and inter.\n",
    "Capomulin_quartiles = Capomulin_df['Tumor Volume (mm3)'].quantile([.25,.5,.75])\n",
    "Capomulin_lowerq = Capomulin_quartiles[0.25]\n",
    "Capomulin_upperq = Capomulin_quartiles[0.75]\n",
    "Capomulin_iqr = Capomulin_upperq-Ramicane_lowerq\n",
    "\n",
    "print(f\"The lower quartile is: {Capomulin_lowerq}\")\n",
    "print(f\"The upper quartile is: {Capomulin_upperq}\")\n",
    "print(f\"The interquartile range is: {Capomulin_iqr}\")\n",
    "print(f\"The the median is: {Capomulin_quartiles[0.5]} \")\n",
    "\n",
    "#Calculate outliers \n",
    "Capomulin_lower_bound = Capomulin_lowerq - (1.5*Capomulin_iqr)\n",
    "Capomulin_upper_bound = Capomulin_upperq + (1.5*Ramicane_iqr)\n",
    "print(f\"Values below {Capomulin_lower_bound} could be outliers.\")\n",
    "print(f\"Values above {Capomulin_upper_bound} could be outliers.\")"
   ]
  },
  {
   "cell_type": "code",
   "execution_count": 28,
   "metadata": {},
   "outputs": [
    {
     "name": "stdout",
     "output_type": "stream",
     "text": [
      "The lower quartile is: 54.04860769\n",
      "The upper quartile is: 40.1592203\n",
      "The interquartile range is: -13.889387389999996\n",
      "The the median is: 60.16518046 \n",
      "Values below 74.88268877499999 could be outliers.\n",
      "Values above 19.325139215000007 could be outliers.\n"
     ]
    }
   ],
   "source": [
    "#Calculate quartiles,lower, upper and inter.\n",
    "Infubinol_quartiles = Infubinol_df['Tumor Volume (mm3)'].quantile([.25,.5,.75])\n",
    "Infubinol_lowerq = Infubinol_quartiles[0.25]\n",
    "Infubinol_upperq = Capomulin_quartiles[0.75]\n",
    "Infubinol_iqr = Infubinol_upperq - Infubinol_lowerq\n",
    "\n",
    "print(f\"The lower quartile is: {Infubinol_lowerq}\")\n",
    "print(f\"The upper quartile is: {Infubinol_upperq}\")\n",
    "print(f\"The interquartile range is: {Infubinol_iqr}\")\n",
    "print(f\"The the median is: {Infubinol_quartiles[0.5]} \")\n",
    "\n",
    "#Calculate outliers \n",
    "Infubinol_lower_bound = Infubinol_lowerq - (1.5*Infubinol_iqr)\n",
    "Infubinol_upper_bound = Infubinol_upperq + (1.5*Infubinol_iqr)\n",
    "print(f\"Values below {Infubinol_lower_bound} could be outliers.\")\n",
    "print(f\"Values above {Infubinol_upper_bound} could be outliers.\")"
   ]
  },
  {
   "cell_type": "code",
   "execution_count": 29,
   "metadata": {},
   "outputs": [
    {
     "name": "stdout",
     "output_type": "stream",
     "text": [
      "The lower quartile is: 48.72207785\n",
      "The upper quartile is: 64.29983003\n",
      "The interquartile range is: 15.577752179999997\n",
      "The the median is: 59.85195552 \n",
      "Values below 25.355449580000002 could be outliers.\n",
      "Values above 87.66645829999999 could be outliers.\n"
     ]
    }
   ],
   "source": [
    "#Calculate quartiles,lower, upper and inter.\n",
    "Ceftamin_quartiles = Ceftamin_df['Tumor Volume (mm3)'].quantile([.25,.5,.75])\n",
    "Ceftamin_lowerq = Ceftamin_quartiles[0.25]\n",
    "Ceftamin_upperq = Ceftamin_quartiles[0.75]\n",
    "Ceftamin_iqr = Ceftamin_upperq - Ceftamin_lowerq\n",
    "\n",
    "print(f\"The lower quartile is: {Ceftamin_lowerq}\")\n",
    "print(f\"The upper quartile is: {Ceftamin_upperq}\")\n",
    "print(f\"The interquartile range is: {Ceftamin_iqr}\")\n",
    "print(f\"The the median is: {Ceftamin_quartiles[0.5]} \")\n",
    "\n",
    "#Calculate outliers \n",
    "Ceftamin_lower_bound = Ceftamin_lowerq - (1.5*Ceftamin_iqr)\n",
    "Ceftamin_upper_bound = Ceftamin_upperq + (1.5*Ceftamin_iqr)\n",
    "print(f\"Values below {Ceftamin_lower_bound} could be outliers.\")\n",
    "print(f\"Values above {Ceftamin_upper_bound} could be outliers.\")"
   ]
  },
  {
   "cell_type": "code",
   "execution_count": 41,
   "metadata": {},
   "outputs": [
    {
     "data": {
      "image/png": "[encoded data removed]",
      "text/plain": [
       "<Figure size 432x288 with 1 Axes>"
      ]
     },
     "metadata": {
      "needs_background": "light"
     },
     "output_type": "display_data"
    }
   ],
   "source": [
    "#Create a dataframe that only includes the top four most promising Regimen.\n",
    "top_4_regimen = data[data[\"Drug Regimen\"].isin([\"Capomulin\", \"Ramicane\", \"Infubinol\", \"Ceftamin\"])]\n",
    "top_4_regimen = top_4_regimen.sort_values([\"Timepoint\"], ascending=True)\n",
    "\n",
    "#Grab the columns needed\n",
    "top_4_regimen_data = top_4_regimen[[\"Drug Regimen\", \"Mouse ID\", \"Timepoint\", \"Tumor Volume (mm3)\"]]\n",
    "top_4_regimen_sort = top_4_regimen_data.groupby(['Drug Regimen', 'Mouse ID']).last()['Tumor Volume (mm3)']\n",
    "top_4_regimen_df = top_4_regimen_sort.to_frame()\n",
    "\n",
    "#Create a list to use as labels and dataframe\n",
    "regimen_list = ['Capomulin', 'Ramicane', 'Infubinol','Ceftamin']\n",
    "\n",
    "# Generate a box plot of the final tumor volume of each mouse across four regimens of interest\n",
    "df = top_4_regimen_df.reset_index()\n",
    "\n",
    "#Make a new dataframe grouped by the four promising Regimen\n",
    "tumor_size_list = df.groupby('Drug Regimen')['Tumor Volume (mm3)'].apply(list)\n",
    "#organize into summary table\n",
    "tumor_list_df = pd.DataFrame(tumor_size_list)\n",
    "tumor_list_df = tumor_list_df.reindex(regimen_list)\n",
    "\n",
    "tumor_volume = [vol for vol in tumor_list_df['Tumor Volume (mm3)']]\n",
    "\n",
    "# plt.boxplot(tumor_vols, labels=top_4)\n",
    "plt.boxplot(tumor_volume, 0, 'gD', labels=regimen_list)\n",
    "plt.title(\"Top Four Regimen Boxplots\", fontsize=12, fontweight=\"bold\")\n",
    "plt.ylabel(\"Tumor Volume (mm3)\")\n",
    "plt.ylim(10, 80)\n",
    "plt.show()"
   ]
  },
  {
   "cell_type": "code",
   "execution_count": 33,
   "metadata": {},
   "outputs": [
    {
     "data": {
      "text/html": [
       "<div>\n",
       "<style scoped>\n",
       "    .dataframe tbody tr th:only-of-type {\n",
       "        vertical-align: middle;\n",
       "    }\n",
       "\n",
       "    .dataframe tbody tr th {\n",
       "        vertical-align: top;\n",
       "    }\n",
       "\n",
       "    .dataframe thead th {\n",
       "        text-align: right;\n",
       "    }\n",
       "</style>\n",
       "<table border=\"1\" class=\"dataframe\">\n",
       "  <thead>\n",
       "    <tr style=\"text-align: right;\">\n",
       "      <th></th>\n",
       "      <th>Mouse ID</th>\n",
       "      <th>Timepoint</th>\n",
       "      <th>Tumor Volume (mm3)</th>\n",
       "    </tr>\n",
       "  </thead>\n",
       "  <tbody>\n",
       "    <tr>\n",
       "      <th>235</th>\n",
       "      <td>g288</td>\n",
       "      <td>0</td>\n",
       "      <td>45.000000</td>\n",
       "    </tr>\n",
       "    <tr>\n",
       "      <th>236</th>\n",
       "      <td>g288</td>\n",
       "      <td>5</td>\n",
       "      <td>45.839400</td>\n",
       "    </tr>\n",
       "    <tr>\n",
       "      <th>237</th>\n",
       "      <td>g288</td>\n",
       "      <td>10</td>\n",
       "      <td>46.304003</td>\n",
       "    </tr>\n",
       "    <tr>\n",
       "      <th>238</th>\n",
       "      <td>g288</td>\n",
       "      <td>15</td>\n",
       "      <td>42.172301</td>\n",
       "    </tr>\n",
       "    <tr>\n",
       "      <th>239</th>\n",
       "      <td>g288</td>\n",
       "      <td>20</td>\n",
       "      <td>42.957120</td>\n",
       "    </tr>\n",
       "    <tr>\n",
       "      <th>240</th>\n",
       "      <td>g288</td>\n",
       "      <td>25</td>\n",
       "      <td>42.368692</td>\n",
       "    </tr>\n",
       "    <tr>\n",
       "      <th>241</th>\n",
       "      <td>g288</td>\n",
       "      <td>30</td>\n",
       "      <td>42.874461</td>\n",
       "    </tr>\n",
       "    <tr>\n",
       "      <th>242</th>\n",
       "      <td>g288</td>\n",
       "      <td>35</td>\n",
       "      <td>38.954115</td>\n",
       "    </tr>\n",
       "    <tr>\n",
       "      <th>243</th>\n",
       "      <td>g288</td>\n",
       "      <td>40</td>\n",
       "      <td>36.356851</td>\n",
       "    </tr>\n",
       "    <tr>\n",
       "      <th>244</th>\n",
       "      <td>g288</td>\n",
       "      <td>45</td>\n",
       "      <td>37.074024</td>\n",
       "    </tr>\n",
       "  </tbody>\n",
       "</table>\n",
       "</div>"
      ],
      "text/plain": [
       "    Mouse ID  Timepoint  Tumor Volume (mm3)\n",
       "235     g288          0           45.000000\n",
       "236     g288          5           45.839400\n",
       "237     g288         10           46.304003\n",
       "238     g288         15           42.172301\n",
       "239     g288         20           42.957120\n",
       "240     g288         25           42.368692\n",
       "241     g288         30           42.874461\n",
       "242     g288         35           38.954115\n",
       "243     g288         40           36.356851\n",
       "244     g288         45           37.074024"
      ]
     },
     "execution_count": 33,
     "metadata": {},
     "output_type": "execute_result"
    }
   ],
   "source": [
    "#Organize a data table for Mouse ID: g288(randomly selected)\n",
    "Line_chart = data[data[\"Mouse ID\"].isin([\"g288\"])]\n",
    "Line_chart_data = Line_chart[[\"Mouse ID\", \"Timepoint\", \"Tumor Volume (mm3)\"]]\n",
    "Line_chart_data"
   ]
  },
  {
   "cell_type": "code",
   "execution_count": 34,
   "metadata": {},
   "outputs": [
    {
     "data": {
      "text/plain": [
       "Text(0, 0.5, 'Data Frequency')"
      ]
     },
     "execution_count": 34,
     "metadata": {},
     "output_type": "execute_result"
    },
    {
     "data": {
      "image/png": "[encoded data removed]",
      "text/plain": [
       "<Figure size 432x288 with 1 Axes>"
      ]
     },
     "metadata": {
      "needs_background": "light"
     },
     "output_type": "display_data"
    }
   ],
   "source": [
    "#Chart our line graph, set lables\n",
    "Line_chart_df = Line_chart_data.reset_index()\n",
    "Line_chart_final = Line_chart_df[[\"Mouse ID\", \"Timepoint\", \"Tumor Volume (mm3)\"]]\n",
    "Line_chart_final.plot.line()\n",
    "plt.title(\"Average Tumer Volume and Weight Linear Regression Model\", fontsize=9, fontweight=\"bold\")\n",
    "plt.xlabel(\"Time\")\n",
    "plt.ylabel(\"Data Frequency\")"
   ]
  },
  {
   "cell_type": "code",
   "execution_count": 36,
   "metadata": {},
   "outputs": [
    {
     "data": {
      "text/plain": [
       "Text(0.5, 1.0, 'Average Tumer Volume and Weight Model')"
      ]
     },
     "execution_count": 36,
     "metadata": {},
     "output_type": "execute_result"
    },
    {
     "data": {
      "image/png": "[encoded data removed]",
      "text/plain": [
       "<Figure size 576x576 with 1 Axes>"
      ]
     },
     "metadata": {
      "needs_background": "light"
     },
     "output_type": "display_data"
    }
   ],
   "source": [
    "#Set up a dataframe with only Capomulin\n",
    "scatter_plot = data[data[\"Drug Regimen\"].isin([\"Capomulin\"])]\n",
    "scattter_plot_data = scatter_plot[[\"Mouse ID\",\"Weight (g)\", \"Tumor Volume (mm3)\"]]\n",
    "\n",
    "#Group by mouse ID\n",
    "average_tumor_size = scattter_plot_data.groupby('Mouse ID')\n",
    "average_tumor_size_df = average_tumor_size.mean()\n",
    "\n",
    "#Create scatter plot\n",
    "scatter_plot_Capomulin = average_tumor_size_df.plot(kind='scatter', x='Weight (g)', y='Tumor Volume (mm3)', grid = True, figsize= (8,8))\n",
    "plt.title(\"Average Tumer Volume and Weight Model\", fontsize=16, fontweight=\"bold\")"
   ]
  },
  {
   "cell_type": "code",
   "execution_count": 37,
   "metadata": {},
   "outputs": [],
   "source": [
    "Import st\n",
    "import scipy.stats as st"
   ]
  },
  {
   "cell_type": "code",
   "execution_count": 38,
   "metadata": {},
   "outputs": [
    {
     "name": "stdout",
     "output_type": "stream",
     "text": [
      "The correlation between average tumer size and weight is 0.84\n",
      "The equation for slope and y intercept is y = 0.95x + 21.55\n"
     ]
    },
    {
     "data": {
      "image/png": "[encoded data removed]",
      "text/plain": [
       "<Figure size 432x288 with 1 Axes>"
      ]
     },
     "metadata": {
      "needs_background": "light"
     },
     "output_type": "display_data"
    }
   ],
   "source": [
    "# Add the linear regression equation and line to plot\n",
    "x_values = average_tumor_size_df['Weight (g)']\n",
    "y_values = average_tumor_size_df['Tumor Volume (mm3)']\n",
    "(slope, intercept, rvalue, pvalue, stderr) = linregress(x_values, y_values)\n",
    "regress_values = x_values * slope + intercept\n",
    "line_eq = \"y = \" + str(round(slope,2)) + \"x + \" + str(round(intercept,2))\n",
    "\n",
    "#Use st to calculate correlation\n",
    "correlation = st.pearsonr(x_values,y_values)\n",
    "print(f\"The correlation between average tumer size and weight is {round(correlation[0],2)}\")\n",
    "\n",
    "#PLot our data in a scatterplot\n",
    "plt.scatter(x_values,y_values)\n",
    "plt.plot(x_values,regress_values,\"g-\")\n",
    "print(f\"The equation for slope and y intercept is {line_eq}\")\n",
    "\n",
    "#Titles and lables\n",
    "plt.title(\"Average Tumer Volume and Weight Linear Regression Model\", fontsize=10, fontweight=\"bold\")\n",
    "plt.xlabel('Weight')\n",
    "plt.ylabel('Tumor Volume (mm3)')\n",
    "plt.show()\n"
   ]
  }
 ],
 "metadata": {
  "kernelspec": {
   "display_name": "Python 3",
   "language": "python",
   "name": "python3"
  },
  "language_info": {
   "codemirror_mode": {
    "name": "ipython",
    "version": 3
   },
   "file_extension": ".py",
   "mimetype": "text/x-python",
   "name": "python",
   "nbconvert_exporter": "python",
   "pygments_lexer": "ipython3",
   "version": "3.8.5"
  }
 },
 "nbformat": 4,
 "nbformat_minor": 4
}
